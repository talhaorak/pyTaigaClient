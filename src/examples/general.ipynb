{
 "cells": [
  {
   "cell_type": "code",
   "execution_count": 2,
   "metadata": {},
   "outputs": [],
   "source": [
    "from pytaigaclient.client import TaigaClient"
   ]
  },
  {
   "cell_type": "code",
   "execution_count": 3,
   "metadata": {},
   "outputs": [],
   "source": [
    "from datetime import datetime"
   ]
  },
  {
   "cell_type": "code",
   "execution_count": 4,
   "metadata": {},
   "outputs": [],
   "source": [
    "TAIGA_HOST = \"http://localhost:9000\"\n",
    "USERNAME = \"test\"\n",
    "PASSWORD = \"test\""
   ]
  },
  {
   "cell_type": "code",
   "execution_count": 5,
   "metadata": {},
   "outputs": [],
   "source": [
    "cli = TaigaClient(TAIGA_HOST)\n",
    "result = cli.auth.login(username=USERNAME, password=PASSWORD)\n",
    "cli.update_token(result[\"auth_token\"])\n",
    "\n",
    "\n",
    "\n"
   ]
  },
  {
   "cell_type": "code",
   "execution_count": 6,
   "metadata": {},
   "outputs": [],
   "source": [
    "project_name = f\"Project {datetime.now().strftime('%Y-%m-%d %H:%M:%S')}\"\n",
    "project = cli.projects.create(name=project_name, description=\"This is a test project.\")"
   ]
  },
  {
   "cell_type": "code",
   "execution_count": 7,
   "metadata": {},
   "outputs": [],
   "source": [
    "us = cli.user_stories.create(project=project[\"id\"], subject=\"User Story 1\", description=\"This is a test user story.\")"
   ]
  },
  {
   "cell_type": "code",
   "execution_count": 8,
   "metadata": {},
   "outputs": [],
   "source": [
    "task = cli.tasks.create(project=project[\"id\"], subject=\"Task 1\", data={\"user_story\": us[\"id\"]})"
   ]
  },
  {
   "cell_type": "code",
   "execution_count": null,
   "metadata": {},
   "outputs": [
    {
     "ename": "NameError",
     "evalue": "name 'cli' is not defined",
     "output_type": "error",
     "traceback": [
      "\u001b[31m---------------------------------------------------------------------------\u001b[39m",
      "\u001b[31mNameError\u001b[39m                                 Traceback (most recent call last)",
      "\u001b[36mCell\u001b[39m\u001b[36m \u001b[39m\u001b[32mIn[1]\u001b[39m\u001b[32m, line 1\u001b[39m\n\u001b[32m----> \u001b[39m\u001b[32m1\u001b[39m sprint = \u001b[43mcli\u001b[49m.milestones.create(project=project[\u001b[33m\"\u001b[39m\u001b[33mid\u001b[39m\u001b[33m\"\u001b[39m], name=\u001b[33m\"\u001b[39m\u001b[33mSprint 1\u001b[39m\u001b[33m\"\u001b[39m, estimated_start=\u001b[33m\"\u001b[39m\u001b[33m2021-01-01\u001b[39m\u001b[33m\"\u001b[39m, estimated_finish=\u001b[33m\"\u001b[39m\u001b[33m2021-01-31\u001b[39m\u001b[33m\"\u001b[39m, slug=\u001b[33m\"\u001b[39m\u001b[33msprint-1\u001b[39m\u001b[33m\"\u001b[39m)\n",
      "\u001b[31mNameError\u001b[39m: name 'cli' is not defined"
     ]
    }
   ],
   "source": [
    "sprint = cli.milestones.create(project=project[\"id\"], name=\"Sprint 1\", estimated_start=\"2021-01-01\", estimated_finish=\"2021-01-31\", slug=\"sprint-1\")"
   ]
  },
  {
   "cell_type": "code",
   "execution_count": 10,
   "metadata": {},
   "outputs": [
    {
     "data": {
      "text/plain": [
       "{'due_date': None,\n",
       " 'due_date_reason': '',\n",
       " 'due_date_status': 'not_set',\n",
       " 'total_comments': 0,\n",
       " 'tags': [],\n",
       " 'attachments': [],\n",
       " 'project': 14,\n",
       " 'project_extra_info': {'name': 'Project 2025-04-11 19:27:05',\n",
       "  'slug': 'project-2025-04-11-192705',\n",
       "  'logo_small_url': None,\n",
       "  'id': 14},\n",
       " 'status': 66,\n",
       " 'status_extra_info': {'name': 'New', 'color': '#70728F', 'is_closed': False},\n",
       " 'assigned_to': None,\n",
       " 'assigned_to_extra_info': None,\n",
       " 'owner': 12,\n",
       " 'owner_extra_info': {'username': 'test',\n",
       "  'full_name_display': 'Test',\n",
       "  'photo': None,\n",
       "  'big_photo': None,\n",
       "  'gravatar_id': 'b642b4217b34b1e8d3bd915fc65c4452',\n",
       "  'is_active': True,\n",
       "  'id': 12},\n",
       " 'is_watcher': False,\n",
       " 'total_watchers': 0,\n",
       " 'is_voter': False,\n",
       " 'total_voters': 0,\n",
       " 'id': 61,\n",
       " 'user_story': None,\n",
       " 'ref': 2,\n",
       " 'milestone': 12,\n",
       " 'milestone_slug': 'sprint-1',\n",
       " 'created_date': '2025-04-11T16:27:11.109Z',\n",
       " 'modified_date': '2025-04-11T16:27:13.942Z',\n",
       " 'finished_date': None,\n",
       " 'subject': 'Task 1',\n",
       " 'us_order': 1744388833904,\n",
       " 'taskboard_order': 1744388833904,\n",
       " 'is_iocaine': False,\n",
       " 'external_reference': None,\n",
       " 'version': 2,\n",
       " 'watchers': [],\n",
       " 'is_blocked': False,\n",
       " 'blocked_note': '',\n",
       " 'is_closed': False,\n",
       " 'user_story_extra_info': None,\n",
       " 'comment': '',\n",
       " 'generated_user_stories': None,\n",
       " 'blocked_note_html': '',\n",
       " 'description': '',\n",
       " 'description_html': ''}"
      ]
     },
     "execution_count": 10,
     "metadata": {},
     "output_type": "execute_result"
    }
   ],
   "source": [
    "cli.tasks.update(task[\"id\"], data={\n",
    "    \"project\": project[\"id\"],\n",
    "    \"subject\": task[\"subject\"],\n",
    "    \"milestone\": sprint[\"id\"],\n",
    "    \"version\": 1,\n",
    "    })"
   ]
  },
  {
   "cell_type": "code",
   "execution_count": 11,
   "metadata": {},
   "outputs": [
    {
     "data": {
      "text/plain": [
       "{'due_date': None,\n",
       " 'due_date_reason': '',\n",
       " 'due_date_status': 'not_set',\n",
       " 'total_comments': 0,\n",
       " 'tags': [],\n",
       " 'attachments': [],\n",
       " 'status': 79,\n",
       " 'status_extra_info': {'name': 'New', 'color': '#70728F', 'is_closed': False},\n",
       " 'assigned_to': None,\n",
       " 'assigned_to_extra_info': None,\n",
       " 'owner': 12,\n",
       " 'owner_extra_info': {'username': 'test',\n",
       "  'full_name_display': 'Test',\n",
       "  'photo': None,\n",
       "  'big_photo': None,\n",
       "  'gravatar_id': 'b642b4217b34b1e8d3bd915fc65c4452',\n",
       "  'is_active': True,\n",
       "  'id': 12},\n",
       " 'is_watcher': False,\n",
       " 'total_watchers': 0,\n",
       " 'is_voter': False,\n",
       " 'total_voters': 0,\n",
       " 'project': 14,\n",
       " 'project_extra_info': {'name': 'Project 2025-04-11 19:27:05',\n",
       "  'slug': 'project-2025-04-11-192705',\n",
       "  'logo_small_url': None,\n",
       "  'id': 14},\n",
       " 'id': 73,\n",
       " 'ref': 1,\n",
       " 'milestone': 12,\n",
       " 'milestone_slug': 'sprint-1',\n",
       " 'milestone_name': 'Sprint 1',\n",
       " 'is_closed': False,\n",
       " 'points': {'79': 157, '80': 157, '81': 157, '82': 157},\n",
       " 'backlog_order': 1744388838278365,\n",
       " 'sprint_order': 1744388838278395,\n",
       " 'kanban_order': 1744388838285883,\n",
       " 'created_date': '2025-04-11T16:27:09.889Z',\n",
       " 'modified_date': '2025-04-11T16:27:18.287Z',\n",
       " 'finish_date': None,\n",
       " 'subject': 'User Story 1',\n",
       " 'client_requirement': False,\n",
       " 'team_requirement': False,\n",
       " 'generated_from_issue': None,\n",
       " 'generated_from_task': None,\n",
       " 'from_task_ref': None,\n",
       " 'external_reference': None,\n",
       " 'tribe_gig': None,\n",
       " 'version': 2,\n",
       " 'watchers': [],\n",
       " 'is_blocked': False,\n",
       " 'blocked_note': '',\n",
       " 'total_points': None,\n",
       " 'comment': '',\n",
       " 'origin_issue': None,\n",
       " 'origin_task': None,\n",
       " 'epics': None,\n",
       " 'epic_order': None,\n",
       " 'tasks': [],\n",
       " 'total_attachments': 0,\n",
       " 'swimlane': None,\n",
       " 'assigned_users': [],\n",
       " 'blocked_note_html': '',\n",
       " 'description': 'This is a test user story.',\n",
       " 'description_html': '<p>This is a test user story.</p>'}"
      ]
     },
     "execution_count": 11,
     "metadata": {},
     "output_type": "execute_result"
    }
   ],
   "source": [
    "cli.user_stories.update(us[\"id\"], version= 1, user_story_data={\n",
    "    \"project\": project[\"id\"],\n",
    "    \"subject\": us[\"subject\"],\n",
    "    \"milestone\": sprint[\"id\"],\n",
    "    })"
   ]
  },
  {
   "cell_type": "code",
   "execution_count": null,
   "metadata": {},
   "outputs": [],
   "source": []
  },
  {
   "cell_type": "markdown",
   "metadata": {},
   "source": []
  }
 ],
 "metadata": {
  "kernelspec": {
   "display_name": ".venv",
   "language": "python",
   "name": "python3"
  },
  "language_info": {
   "codemirror_mode": {
    "name": "ipython",
    "version": 3
   },
   "file_extension": ".py",
   "mimetype": "text/x-python",
   "name": "python",
   "nbconvert_exporter": "python",
   "pygments_lexer": "ipython3",
   "version": "3.13.2"
  }
 },
 "nbformat": 4,
 "nbformat_minor": 2
}
